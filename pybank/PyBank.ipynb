{
 "cells": [
  {
   "cell_type": "code",
   "execution_count": 1,
   "metadata": {},
   "outputs": [],
   "source": [
    "import pandas as pd"
   ]
  },
  {
   "cell_type": "code",
   "execution_count": 2,
   "metadata": {},
   "outputs": [],
   "source": [
    "#modules\n",
    "import os\n",
    "import csv"
   ]
  },
  {
   "cell_type": "code",
   "execution_count": 3,
   "metadata": {},
   "outputs": [],
   "source": [
    "#month = input(\"what month are you looking for\")\n"
   ]
  },
  {
   "cell_type": "code",
   "execution_count": 4,
   "metadata": {},
   "outputs": [
    {
     "name": "stdout",
     "output_type": "stream",
     "text": [
      "Resources/budget_data.csv\n"
     ]
    }
   ],
   "source": [
    "#set path for file\n",
    "csv_path = os.path.join(\"Resources\", \"budget_data.csv\")\n",
    "print(csv_path)"
   ]
  },
  {
   "cell_type": "code",
   "execution_count": 5,
   "metadata": {},
   "outputs": [],
   "source": [
    "#open the CSV\n",
    "#found = False\n",
    "#with open(csv_path) as csv_file:\n",
    "    #csv_reader = csv.reader(csv_file)\n",
    "    #for row in csv_reader:\n",
    "        #if row [0] == month:\n",
    "            #print (row[0] + \"is correct\")\n",
    "            #found = True\n",
    "    #if found == False:\n",
    "        #print(\"wrong\")\n",
    "        \n",
    "\n",
    "    "
   ]
  },
  {
   "cell_type": "code",
   "execution_count": 6,
   "metadata": {},
   "outputs": [
    {
     "data": {
      "text/html": [
       "<div>\n",
       "<style scoped>\n",
       "    .dataframe tbody tr th:only-of-type {\n",
       "        vertical-align: middle;\n",
       "    }\n",
       "\n",
       "    .dataframe tbody tr th {\n",
       "        vertical-align: top;\n",
       "    }\n",
       "\n",
       "    .dataframe thead th {\n",
       "        text-align: right;\n",
       "    }\n",
       "</style>\n",
       "<table border=\"1\" class=\"dataframe\">\n",
       "  <thead>\n",
       "    <tr style=\"text-align: right;\">\n",
       "      <th></th>\n",
       "      <th>Date</th>\n",
       "      <th>Profit/Losses</th>\n",
       "    </tr>\n",
       "  </thead>\n",
       "  <tbody>\n",
       "    <tr>\n",
       "      <th>0</th>\n",
       "      <td>Jan-2010</td>\n",
       "      <td>867884</td>\n",
       "    </tr>\n",
       "    <tr>\n",
       "      <th>1</th>\n",
       "      <td>Feb-2010</td>\n",
       "      <td>984655</td>\n",
       "    </tr>\n",
       "    <tr>\n",
       "      <th>2</th>\n",
       "      <td>Mar-2010</td>\n",
       "      <td>322013</td>\n",
       "    </tr>\n",
       "    <tr>\n",
       "      <th>3</th>\n",
       "      <td>Apr-2010</td>\n",
       "      <td>-69417</td>\n",
       "    </tr>\n",
       "    <tr>\n",
       "      <th>4</th>\n",
       "      <td>May-2010</td>\n",
       "      <td>310503</td>\n",
       "    </tr>\n",
       "  </tbody>\n",
       "</table>\n",
       "</div>"
      ],
      "text/plain": [
       "       Date  Profit/Losses\n",
       "0  Jan-2010         867884\n",
       "1  Feb-2010         984655\n",
       "2  Mar-2010         322013\n",
       "3  Apr-2010         -69417\n",
       "4  May-2010         310503"
      ]
     },
     "execution_count": 6,
     "metadata": {},
     "output_type": "execute_result"
    }
   ],
   "source": [
    "#create a dataframe of frames using a list of dictionaries\n",
    "data_df = pd.read_csv(csv_path)\n",
    "data_df.head()"
   ]
  },
  {
   "cell_type": "code",
   "execution_count": 7,
   "metadata": {},
   "outputs": [
    {
     "data": {
      "text/html": [
       "<div>\n",
       "<style scoped>\n",
       "    .dataframe tbody tr th:only-of-type {\n",
       "        vertical-align: middle;\n",
       "    }\n",
       "\n",
       "    .dataframe tbody tr th {\n",
       "        vertical-align: top;\n",
       "    }\n",
       "\n",
       "    .dataframe thead th {\n",
       "        text-align: right;\n",
       "    }\n",
       "</style>\n",
       "<table border=\"1\" class=\"dataframe\">\n",
       "  <thead>\n",
       "    <tr style=\"text-align: right;\">\n",
       "      <th></th>\n",
       "      <th>Date</th>\n",
       "      <th>PNL</th>\n",
       "    </tr>\n",
       "  </thead>\n",
       "  <tbody>\n",
       "    <tr>\n",
       "      <th>0</th>\n",
       "      <td>Jan-2010</td>\n",
       "      <td>867884</td>\n",
       "    </tr>\n",
       "    <tr>\n",
       "      <th>1</th>\n",
       "      <td>Feb-2010</td>\n",
       "      <td>984655</td>\n",
       "    </tr>\n",
       "    <tr>\n",
       "      <th>2</th>\n",
       "      <td>Mar-2010</td>\n",
       "      <td>322013</td>\n",
       "    </tr>\n",
       "    <tr>\n",
       "      <th>3</th>\n",
       "      <td>Apr-2010</td>\n",
       "      <td>-69417</td>\n",
       "    </tr>\n",
       "    <tr>\n",
       "      <th>4</th>\n",
       "      <td>May-2010</td>\n",
       "      <td>310503</td>\n",
       "    </tr>\n",
       "  </tbody>\n",
       "</table>\n",
       "</div>"
      ],
      "text/plain": [
       "       Date     PNL\n",
       "0  Jan-2010  867884\n",
       "1  Feb-2010  984655\n",
       "2  Mar-2010  322013\n",
       "3  Apr-2010  -69417\n",
       "4  May-2010  310503"
      ]
     },
     "execution_count": 7,
     "metadata": {},
     "output_type": "execute_result"
    }
   ],
   "source": [
    "#rename the columns to what i want to use\n",
    "better_named_data_df = data_df.rename(columns={\n",
    "    \"Profit/Losses\": \"PNL\"})\n",
    "better_named_data_df.head()"
   ]
  },
  {
   "cell_type": "code",
   "execution_count": 8,
   "metadata": {},
   "outputs": [
    {
     "data": {
      "text/html": [
       "<div>\n",
       "<style scoped>\n",
       "    .dataframe tbody tr th:only-of-type {\n",
       "        vertical-align: middle;\n",
       "    }\n",
       "\n",
       "    .dataframe tbody tr th {\n",
       "        vertical-align: top;\n",
       "    }\n",
       "\n",
       "    .dataframe thead th {\n",
       "        text-align: right;\n",
       "    }\n",
       "</style>\n",
       "<table border=\"1\" class=\"dataframe\">\n",
       "  <thead>\n",
       "    <tr style=\"text-align: right;\">\n",
       "      <th></th>\n",
       "      <th>Date</th>\n",
       "      <th>PNL</th>\n",
       "      <th>MoM Diff</th>\n",
       "    </tr>\n",
       "  </thead>\n",
       "  <tbody>\n",
       "    <tr>\n",
       "      <th>0</th>\n",
       "      <td>Jan-2010</td>\n",
       "      <td>867884</td>\n",
       "      <td>NaN</td>\n",
       "    </tr>\n",
       "    <tr>\n",
       "      <th>1</th>\n",
       "      <td>Feb-2010</td>\n",
       "      <td>984655</td>\n",
       "      <td>116771.0</td>\n",
       "    </tr>\n",
       "    <tr>\n",
       "      <th>2</th>\n",
       "      <td>Mar-2010</td>\n",
       "      <td>322013</td>\n",
       "      <td>-662642.0</td>\n",
       "    </tr>\n",
       "    <tr>\n",
       "      <th>3</th>\n",
       "      <td>Apr-2010</td>\n",
       "      <td>-69417</td>\n",
       "      <td>-391430.0</td>\n",
       "    </tr>\n",
       "    <tr>\n",
       "      <th>4</th>\n",
       "      <td>May-2010</td>\n",
       "      <td>310503</td>\n",
       "      <td>379920.0</td>\n",
       "    </tr>\n",
       "  </tbody>\n",
       "</table>\n",
       "</div>"
      ],
      "text/plain": [
       "       Date     PNL  MoM Diff\n",
       "0  Jan-2010  867884       NaN\n",
       "1  Feb-2010  984655  116771.0\n",
       "2  Mar-2010  322013 -662642.0\n",
       "3  Apr-2010  -69417 -391430.0\n",
       "4  May-2010  310503  379920.0"
      ]
     },
     "execution_count": 8,
     "metadata": {},
     "output_type": "execute_result"
    }
   ],
   "source": [
    "#add a column in the df\n",
    "mom_diff = better_named_data_df[\"PNL\"].diff()\n",
    "better_named_data_df[\"MoM Diff\"] = mom_diff\n",
    "better_named_data_df.head()\n"
   ]
  },
  {
   "cell_type": "code",
   "execution_count": 9,
   "metadata": {},
   "outputs": [],
   "source": [
    "#calcualate the total month in the df\n",
    "total_months = len(better_named_data_df[\"Date\"].unique())\n",
    "\n",
    "#calculate the total pnl in the df\n",
    "total_pnl = better_named_data_df[\"PNL\"].sum()\n",
    "\n",
    "\n",
    "average_change = better_named_data_df[\"MoM Diff\"].mean()\n",
    "                   "
   ]
  },
  {
   "cell_type": "code",
   "execution_count": 10,
   "metadata": {},
   "outputs": [],
   "source": [
    "#greatest increase\n",
    "greatest_increase = better_named_data_df[\"MoM Diff\"].max()\n",
    "#greatest decrease \n",
    "greatest_decrease = better_named_data_df[\"MoM Diff\"].min()\n"
   ]
  },
  {
   "cell_type": "code",
   "execution_count": 13,
   "metadata": {},
   "outputs": [
    {
     "data": {
      "text/plain": [
       "<bound method DataFrame.idxmax of         Date      PNL   MoM Diff\n",
       "0   Jan-2010   867884        NaN\n",
       "1   Feb-2010   984655   116771.0\n",
       "2   Mar-2010   322013  -662642.0\n",
       "3   Apr-2010   -69417  -391430.0\n",
       "4   May-2010   310503   379920.0\n",
       "5   Jun-2010   522857   212354.0\n",
       "6   Jul-2010  1033096   510239.0\n",
       "7   Aug-2010   604885  -428211.0\n",
       "8   Sep-2010  -216386  -821271.0\n",
       "9   Oct-2010   477532   693918.0\n",
       "10  Nov-2010   893810   416278.0\n",
       "11  Dec-2010   -80353  -974163.0\n",
       "12  Jan-2011   779806   860159.0\n",
       "13  Feb-2011  -335203 -1115009.0\n",
       "14  Mar-2011   697845  1033048.0\n",
       "15  Apr-2011   793163    95318.0\n",
       "16  May-2011   485070  -308093.0\n",
       "17  Jun-2011   584122    99052.0\n",
       "18  Jul-2011    62729  -521393.0\n",
       "19  Aug-2011   668179   605450.0\n",
       "20  Sep-2011   899906   231727.0\n",
       "21  Oct-2011   834719   -65187.0\n",
       "22  Nov-2011   132003  -702716.0\n",
       "23  Dec-2011   309978   177975.0\n",
       "24  Jan-2012  -755566 -1065544.0\n",
       "25  Feb-2012  1170593  1926159.0\n",
       "26  Mar-2012   252788  -917805.0\n",
       "27  Apr-2012  1151518   898730.0\n",
       "28  May-2012   817256  -334262.0\n",
       "29  Jun-2012   570757  -246499.0\n",
       "..       ...      ...        ...\n",
       "56  Sep-2014  1166643   365942.0\n",
       "57  Oct-2014   947333  -219310.0\n",
       "58  Nov-2014   578668  -368665.0\n",
       "59  Dec-2014   988505   409837.0\n",
       "60  Jan-2015  1139715   151210.0\n",
       "61  Feb-2015  1029471  -110244.0\n",
       "62  Mar-2015   687533  -341938.0\n",
       "63  Apr-2015  -524626 -1212159.0\n",
       "64  May-2015   158620   683246.0\n",
       "65  Jun-2015    87795   -70825.0\n",
       "66  Jul-2015   423389   335594.0\n",
       "67  Aug-2015   840723   417334.0\n",
       "68  Sep-2015   568529  -272194.0\n",
       "69  Oct-2015   332067  -236462.0\n",
       "70  Nov-2015   989499   657432.0\n",
       "71  Dec-2015   778237  -211262.0\n",
       "72  Jan-2016   650000  -128237.0\n",
       "73  Feb-2016 -1100387 -1750387.0\n",
       "74  Mar-2016  -174946   925441.0\n",
       "75  Apr-2016   757143   932089.0\n",
       "76  May-2016   445709  -311434.0\n",
       "77  Jun-2016   712961   267252.0\n",
       "78  Jul-2016 -1163797 -1876758.0\n",
       "79  Aug-2016   569899  1733696.0\n",
       "80  Sep-2016   768450   198551.0\n",
       "81  Oct-2016   102685  -665765.0\n",
       "82  Nov-2016   795914   693229.0\n",
       "83  Dec-2016    60988  -734926.0\n",
       "84  Jan-2017   138230    77242.0\n",
       "85  Feb-2017   671099   532869.0\n",
       "\n",
       "[86 rows x 3 columns]>"
      ]
     },
     "execution_count": 13,
     "metadata": {},
     "output_type": "execute_result"
    }
   ],
   "source": [
    "better_named_data_df.idxmax\n"
   ]
  },
  {
   "cell_type": "code",
   "execution_count": 32,
   "metadata": {},
   "outputs": [],
   "source": [
    "#find the max month and print it\n",
    "max_month = better_named_data_df.loc[better_named_data_df[\"MoM Diff\"].idxmax()]\n",
    "max_month\n",
    "highest_month = max_month[0]\n",
    "\n"
   ]
  },
  {
   "cell_type": "code",
   "execution_count": 31,
   "metadata": {},
   "outputs": [
    {
     "name": "stdout",
     "output_type": "stream",
     "text": [
      "-1196225\n",
      "Sep-2013\n"
     ]
    }
   ],
   "source": [
    "#find the min month and print it\n",
    "min_month = better_named_data_df.loc[better_named_data_df[\"MoM Diff\"].idxmin()]\n",
    "min_month\n",
    "print(min_month[1])\n",
    "lowest_month = min_month[0]\n",
    "print(lowest_month)"
   ]
  },
  {
   "cell_type": "code",
   "execution_count": 34,
   "metadata": {},
   "outputs": [
    {
     "data": {
      "text/html": [
       "<div>\n",
       "<style scoped>\n",
       "    .dataframe tbody tr th:only-of-type {\n",
       "        vertical-align: middle;\n",
       "    }\n",
       "\n",
       "    .dataframe tbody tr th {\n",
       "        vertical-align: top;\n",
       "    }\n",
       "\n",
       "    .dataframe thead th {\n",
       "        text-align: right;\n",
       "    }\n",
       "</style>\n",
       "<table border=\"1\" class=\"dataframe\">\n",
       "  <thead>\n",
       "    <tr style=\"text-align: right;\">\n",
       "      <th></th>\n",
       "      <th>Total Months</th>\n",
       "      <th>Total PNL</th>\n",
       "      <th>Average Change</th>\n",
       "      <th>Greatest Increase</th>\n",
       "      <th>Max Month</th>\n",
       "      <th>Greatest Decrease</th>\n",
       "      <th>Min Month</th>\n",
       "    </tr>\n",
       "  </thead>\n",
       "  <tbody>\n",
       "    <tr>\n",
       "      <th>0</th>\n",
       "      <td>86</td>\n",
       "      <td>38382578</td>\n",
       "      <td>-2315.117647</td>\n",
       "      <td>1926159.0</td>\n",
       "      <td>Feb-2012</td>\n",
       "      <td>-2196167.0</td>\n",
       "      <td>Sep-2013</td>\n",
       "    </tr>\n",
       "  </tbody>\n",
       "</table>\n",
       "</div>"
      ],
      "text/plain": [
       "   Total Months  Total PNL  Average Change  Greatest Increase Max Month  \\\n",
       "0            86   38382578    -2315.117647          1926159.0  Feb-2012   \n",
       "\n",
       "   Greatest Decrease Min Month  \n",
       "0         -2196167.0  Sep-2013  "
      ]
     },
     "execution_count": 34,
     "metadata": {},
     "output_type": "execute_result"
    }
   ],
   "source": [
    "summary_table = pd.DataFrame({\"Total Months\": total_months,\n",
    "                  \"Total PNL\": [total_pnl],\n",
    "                   \"Average Change\": [average_change],\n",
    "                   \"Greatest Increase\":[greatest_increase],\n",
    "                    \"Max Month\":[highest_month],\n",
    "                    \"Greatest Decrease\":[greatest_decrease],\n",
    "                    \"Min Month\":[lowest_month]\n",
    "                   })\n",
    "summary_table\n"
   ]
  },
  {
   "cell_type": "code",
   "execution_count": null,
   "metadata": {},
   "outputs": [],
   "source": [
    "# Export file as a CSV\n",
    "file_one_df.to_csv(\"Output/fileOne.csv\")"
   ]
  }
 ],
 "metadata": {
  "kernelspec": {
   "display_name": "Python 3",
   "language": "python",
   "name": "python3"
  },
  "language_info": {
   "codemirror_mode": {
    "name": "ipython",
    "version": 3
   },
   "file_extension": ".py",
   "mimetype": "text/x-python",
   "name": "python",
   "nbconvert_exporter": "python",
   "pygments_lexer": "ipython3",
   "version": "3.7.0"
  }
 },
 "nbformat": 4,
 "nbformat_minor": 2
}
